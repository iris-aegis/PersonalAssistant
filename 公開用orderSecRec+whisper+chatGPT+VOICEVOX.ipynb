{
  "nbformat": 4,
  "nbformat_minor": 0,
  "metadata": {
    "colab": {
      "provenance": [],
      "authorship_tag": "ABX9TyMsWPx9mdOEQL2xbGJPRDKJ",
      "include_colab_link": true
    },
    "kernelspec": {
      "name": "python3",
      "display_name": "Python 3"
    },
    "language_info": {
      "name": "python"
    },
    "accelerator": "GPU",
    "gpuClass": "standard"
  },
  "cells": [
    {
      "cell_type": "markdown",
      "metadata": {
        "id": "view-in-github",
        "colab_type": "text"
      },
      "source": [
        "<a href=\"https://colab.research.google.com/github/iris-aegis/PersonalAssistantOfficial/blob/main/%E5%85%AC%E9%96%8B%E7%94%A8orderSecRec%2Bwhisper%2BchatGPT%2BVOICEVOX.ipynb\" target=\"_parent\"><img src=\"https://colab.research.google.com/assets/colab-badge.svg\" alt=\"Open In Colab\"/></a>"
      ]
    },
    {
      "cell_type": "code",
      "source": [
        "#対話生成部準備\n",
        "#chatGPTのAPIの準備\n",
        "!pip install openai --no-cache-dir\n",
        "!pip install --upgrade pip\n",
        "!pip install openai\n",
        "\n",
        "import os\n",
        "import openai\n",
        "openai.api_key = \"\"#ここにchatGPTのAPIキーを入力してください"
      ],
      "metadata": {
        "id": "7GU84C8oKKHN"
      },
      "execution_count": null,
      "outputs": []
    },
    {
      "cell_type": "code",
      "source": [
        "#録音部準備\n",
        "# from https://gist.github.com/korakot/c21c3476c024ad6d56d5f48b0bca92be\n",
        "from IPython.display import Javascript\n",
        "from google.colab import output\n",
        "from base64 import b64decode\n",
        "\n",
        "RECORD = \"\"\"\n",
        "const sleep = time => new Promise(resolve => setTimeout(resolve, time))\n",
        "const b2text = blob => new Promise(resolve => {\n",
        "  const reader = new FileReader()\n",
        "  reader.onloadend = e => resolve(e.srcElement.result)\n",
        "  reader.readAsDataURL(blob)\n",
        "})\n",
        "var record = time => new Promise(async resolve => {\n",
        "  stream = await navigator.mediaDevices.getUserMedia({ audio: true })\n",
        "  recorder = new MediaRecorder(stream)\n",
        "  chunks = []\n",
        "  recorder.ondataavailable = e => chunks.push(e.data)\n",
        "  recorder.start()\n",
        "  await sleep(time)\n",
        "  recorder.onstop = async ()=>{\n",
        "    blob = new Blob(chunks)\n",
        "    text = await b2text(blob)\n",
        "    resolve(text)\n",
        "  }\n",
        "  recorder.stop()\n",
        "})\n",
        "\"\"\"\n",
        "\n",
        "def record(sec, filename='audio.wav'):\n",
        "  display(Javascript(RECORD))\n",
        "  s = output.eval_js('record(%d)' % (sec * 1000))\n",
        "  b = b64decode(s.split(',')[1])\n",
        "  with open(filename, 'wb+') as f:\n",
        "    f.write(b)"
      ],
      "metadata": {
        "id": "KoEe6gDNn6Ga"
      },
      "execution_count": null,
      "outputs": []
    },
    {
      "cell_type": "code",
      "source": [
        "#音声認識部準備\n",
        "#whisperのダウンロード\n",
        "!pip install git+https://github.com/openai/whisper.git\n",
        "!pip install sentencepiece\n",
        "import whisper\n",
        "model = whisper.load_model('medium')#colabがproで使用可能メモリが大きければlargeに変更可"
      ],
      "metadata": {
        "id": "51_P3PCnaOA6"
      },
      "execution_count": null,
      "outputs": []
    },
    {
      "cell_type": "markdown",
      "source": [
        "参考サイト：https://monomonotech.jp/kurage/memo/230227_voicevox_colaboratory.html"
      ],
      "metadata": {
        "id": "GidY9Le4aArG"
      }
    },
    {
      "cell_type": "code",
      "source": [
        "#音声合成部準備\n",
        "#VOICEVOXのダウンロード\n",
        "# 参考サイト：https://monomonotech.jp/kurage/memo/230227_voicevox_colaboratory.html\n",
        "\n",
        "!curl -sSfL https://github.com/VOICEVOX/voicevox_core/releases/latest/download/download.sh | bash -s\n",
        "%cd voicevox_core/\n",
        "!wget https://github.com/VOICEVOX/voicevox_core/releases/download/0.14.1/voicevox_core-0.14.1+cuda-cp38-abi3-linux_x86_64.whl\n",
        "!pip install voicevox_core-0.14.1+cuda-cp38-abi3-linux_x86_64.whl\n",
        "!wget https://raw.githubusercontent.com/VOICEVOX/voicevox_core/main/example/python/run.py"
      ],
      "metadata": {
        "id": "V7j5X1jRDjX8"
      },
      "execution_count": null,
      "outputs": []
    },
    {
      "cell_type": "code",
      "execution_count": null,
      "metadata": {
        "id": "zl9y8wIjoyAI"
      },
      "outputs": [],
      "source": [
        "#音声再生部準備\n",
        "# pyopenjtalkのインストール\n",
        "!pip install pyopenjtalk\n",
        "from IPython.display import Audio\n",
        "from IPython.display import display"
      ]
    },
    {
      "cell_type": "code",
      "source": [
        "#対話システム\n",
        "inputfile = 'input.wav'#録音した音声ファイル名を指定\n",
        "second = 3\n",
        "counter = 1\n",
        "while True:\n",
        "  #録音部\n",
        "  print(f\"{counter}回目の会話：録音秒数を入力してください\")\n",
        "  counter ++\n",
        "  second = int(input())#何秒録音するか指定する\n",
        "  if record == 0 : break\n",
        "  print(f\"{second}秒間録音中です\")\n",
        "  record(second, inputfile)\n",
        "  print(\"録音終了\")\n",
        "\n",
        "  #音声認識部\n",
        "  audio = whisper.load_audio(inputfile)\n",
        "  audio = whisper.pad_or_trim(audio)\n",
        "  mel = whisper.log_mel_spectrogram(audio).to(model.device)\n",
        "  _, probs = model.detect_language(mel)\n",
        "  options = whisper.DecodingOptions()\n",
        "  result = whisper.decode(model, mel, options)\n",
        "  print(result.text)#認識結果のテキストを表示\n",
        "\n",
        "  #対話生成部\n",
        "  inputText=result.text#認識結果を対話生成部に渡す\n",
        "  res = openai.ChatCompletion.create(\n",
        "      model=\"gpt-3.5-turbo\",\n",
        "      messages=[\n",
        "          {\"role\": \"system\",\"content\": \"猫の口調メイドとして返答してください。\"},\n",
        "          #{\"role\": \"assistant\",\"content\": log},#前回の対話を引き継ぎ\n",
        "          {\"role\": \"user\",\"content\": inputText},\n",
        "      ],\n",
        "  )\n",
        "  print(res)#chatGPTのAPIの出力結果(消費したトークン数等)\n",
        "  text = \"、、、、、\"+res[\"choices\"][0][\"message\"][\"content\"]\n",
        "  print(text)#生成した対話文のみ表示\n",
        "\n",
        "  #音声合成部\n",
        "  speaker_id = 14#46\n",
        "  !sed -i \"/SPEAKER_ID =/c SPEAKER_ID = $speaker_id\" run.py\n",
        "  !python ./run.py ./open_jtalk_dic_utf_8-1.11 $text output.wav\n",
        "\n",
        "  #音声再生部\n",
        "  wn = Audio(\"output.wav\",rate = 22050,autoplay=True)\n",
        "  display(wn)"
      ],
      "metadata": {
        "id": "2bd83Gqvo589"
      },
      "execution_count": null,
      "outputs": []
    }
  ]
}